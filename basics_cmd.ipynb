{
  "nbformat": 4,
  "nbformat_minor": 0,
  "metadata": {
    "colab": {
      "name": "basics_cmd.ipynb",
      "provenance": [],
      "authorship_tag": "ABX9TyMeMV6PMQ0HYsQuVK9/U3b+",
      "include_colab_link": true
    },
    "kernelspec": {
      "name": "python3",
      "display_name": "Python 3"
    }
  },
  "cells": [
    {
      "cell_type": "markdown",
      "metadata": {
        "id": "view-in-github",
        "colab_type": "text"
      },
      "source": [
        "<a href=\"https://colab.research.google.com/github/TaqiyEddine-B/Test/blob/master/basics_cmd.ipynb\" target=\"_parent\"><img src=\"https://colab.research.google.com/assets/colab-badge.svg\" alt=\"Open In Colab\"/></a>"
      ]
    },
    {
      "cell_type": "markdown",
      "metadata": {
        "id": "3HgkhWNxMLAS",
        "colab_type": "text"
      },
      "source": [
        "Show the current directory "
      ]
    },
    {
      "cell_type": "code",
      "metadata": {
        "id": "tiSlGPk1Lnoy",
        "colab_type": "code",
        "outputId": "df2d8ecc-4b10-4da6-a394-631fe76141d4",
        "colab": {
          "base_uri": "https://localhost:8080/",
          "height": 34
        }
      },
      "source": [
        "!pwd"
      ],
      "execution_count": 0,
      "outputs": [
        {
          "output_type": "stream",
          "text": [
            "/content\n"
          ],
          "name": "stdout"
        }
      ]
    }
  ]
}